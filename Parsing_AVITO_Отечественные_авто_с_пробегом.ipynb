{
 "cells": [
  {
   "cell_type": "code",
   "execution_count": 1,
   "id": "34960658",
   "metadata": {},
   "outputs": [],
   "source": [
    "from bs4 import BeautifulSoup\n",
    "import pandas as pd\n",
    "import requests, lxml, webbrowser, re, random, datetime\n",
    "import time, openpyxl, json, warnings, time\n",
    "from tqdm import tqdm\n",
    "import datetime\n",
    "from datetime import date, datetime, timedelta\n",
    "from dateutil.relativedelta import relativedelta\n",
    "from selenium import webdriver\n",
    "from selenium.webdriver.chrome.service import Service\n",
    "from webdriver_manager.chrome import ChromeDriverManager\n",
    "\n",
    "warnings.filterwarnings('ignore')\n",
    "pd.set_option('display.max_columns', None)\n",
    "pd.set_option('display.max_rows', None)"
   ]
  },
  {
   "cell_type": "code",
   "execution_count": 2,
   "id": "7a51dd19",
   "metadata": {
    "scrolled": true
   },
   "outputs": [
    {
     "name": "stdout",
     "output_type": "stream",
     "text": [
      "Дата загрузки 2024-11-11\n",
      "Драйвер загружен!\n",
      "Обработана страница 1. Всего загружено 50 машин.\n",
      "Обработана страница 2. Всего загружено 100 машин.\n",
      "Обработана страница 3. Всего загружено 150 машин.\n",
      "Обработана страница 4. Всего загружено 200 машин.\n",
      "Обработана страница 5. Всего загружено 250 машин.\n",
      "Обработана страница 6. Всего загружено 300 машин.\n",
      "Обработана страница 7. Всего загружено 350 машин.\n",
      "Обработана страница 8. Всего загружено 400 машин.\n",
      "Обработана страница 9. Всего загружено 450 машин.\n",
      "Обработана страница 10. Всего загружено 500 машин.\n",
      "Обработана страница 11. Всего загружено 550 машин.\n",
      "Обработана страница 12. Всего загружено 600 машин.\n",
      "Обработана страница 13. Всего загружено 650 машин.\n",
      "Обработана страница 14. Всего загружено 700 машин.\n",
      "Обработана страница 15. Всего загружено 750 машин.\n",
      "Обработана страница 16. Всего загружено 800 машин.\n",
      "Обработана страница 17. Всего загружено 850 машин.\n",
      "Обработана страница 18. Всего загружено 900 машин.\n",
      "Обработана страница 19. Всего загружено 950 машин.\n",
      "Обработана страница 20. Всего загружено 1000 машин.\n",
      "Обработана страница 21. Всего загружено 1050 машин.\n",
      "Обработана страница 22. Всего загружено 1100 машин.\n",
      "Обработана страница 23. Всего загружено 1150 машин.\n",
      "Обработана страница 24. Всего загружено 1200 машин.\n",
      "Обработана страница 25. Всего загружено 1250 машин.\n",
      "Обработана страница 26. Всего загружено 1300 машин.\n",
      "Обработана страница 27. Всего загружено 1350 машин.\n",
      "Обработана страница 28. Всего загружено 1400 машин.\n",
      "Обработана страница 29. Всего загружено 1450 машин.\n",
      "Обработана страница 30. Всего загружено 1500 машин.\n",
      "Обработана страница 31. Всего загружено 1550 машин.\n",
      "Обработана страница 32. Всего загружено 1600 машин.\n",
      "Обработана страница 33. Всего загружено 1650 машин.\n",
      "Обработана страница 34. Всего загружено 1700 машин.\n",
      "Обработана страница 35. Всего загружено 1750 машин.\n",
      "Обработана страница 36. Всего загружено 1800 машин.\n",
      "Обработана страница 37. Всего загружено 1850 машин.\n",
      "Обработана страница 38. Всего загружено 1900 машин.\n",
      "Обработана страница 39. Всего загружено 1950 машин.\n",
      "Обработана страница 40. Всего загружено 2000 машин.\n",
      "Обработана страница 41. Всего загружено 2050 машин.\n",
      "Обработана страница 42. Всего загружено 2100 машин.\n",
      "Обработана страница 43. Всего загружено 2150 машин.\n",
      "Обработана страница 44. Всего загружено 2200 машин.\n",
      "Обработана страница 45. Всего загружено 2250 машин.\n",
      "Обработана страница 46. Всего загружено 2300 машин.\n",
      "Обработана страница 47. Всего загружено 2350 машин.\n",
      "Обработана страница 48. Всего загружено 2400 машин.\n",
      "Обработана страница 49. Всего загружено 2450 машин.\n",
      "Обработана страница 50. Всего загружено 2500 машин.\n",
      "Обработана страница 51. Всего загружено 2550 машин.\n",
      "Обработана страница 52. Всего загружено 2600 машин.\n",
      "Обработана страница 53. Всего загружено 2650 машин.\n",
      "Обработана страница 54. Всего загружено 2700 машин.\n",
      "Обработана страница 55. Всего загружено 2750 машин.\n",
      "Обработана страница 56. Всего загружено 2800 машин.\n",
      "Обработана страница 57. Всего загружено 2850 машин.\n",
      "Обработана страница 58. Всего загружено 2900 машин.\n",
      "Обработана страница 59. Всего загружено 2950 машин.\n",
      "Обработана страница 60. Всего загружено 3000 машин.\n",
      "Обработана страница 61. Всего загружено 3050 машин.\n",
      "Обработана страница 62. Всего загружено 3100 машин.\n",
      "Обработана страница 63. Всего загружено 3150 машин.\n",
      "Обработана страница 64. Всего загружено 3200 машин.\n",
      "Обработана страница 65. Всего загружено 3250 машин.\n",
      "Обработана страница 66. Всего загружено 3300 машин.\n",
      "Обработана страница 67. Всего загружено 3350 машин.\n",
      "Обработана страница 68. Всего загружено 3400 машин.\n",
      "Обработана страница 69. Всего загружено 3450 машин.\n",
      "Обработана страница 70. Всего загружено 3500 машин.\n",
      "Обработана страница 71. Всего загружено 3550 машин.\n",
      "Обработана страница 72. Всего загружено 3600 машин.\n",
      "Обработана страница 73. Всего загружено 3650 машин.\n",
      "Обработана страница 74. Всего загружено 3700 машин.\n",
      "Обработана страница 75. Всего загружено 3750 машин.\n",
      "Обработана страница 76. Всего загружено 3800 машин.\n",
      "Обработана страница 77. Всего загружено 3850 машин.\n",
      "Обработана страница 78. Всего загружено 3900 машин.\n",
      "Обработана страница 79. Всего загружено 3950 машин.\n",
      "Обработана страница 80. Всего загружено 4000 машин.\n",
      "Обработана страница 81. Всего загружено 4050 машин.\n",
      "Обработана страница 82. Всего загружено 4100 машин.\n",
      "Обработана страница 83. Всего загружено 4150 машин.\n",
      "Обработана страница 84. Всего загружено 4200 машин.\n",
      "Обработана страница 85. Всего загружено 4250 машин.\n",
      "Обработана страница 86. Всего загружено 4300 машин.\n",
      "Обработана страница 87. Всего загружено 4350 машин.\n",
      "Обработана страница 88. Всего загружено 4400 машин.\n",
      "Обработана страница 89. Всего загружено 4450 машин.\n",
      "Обработана страница 90. Всего загружено 4500 машин.\n",
      "Обработана страница 91. Всего загружено 4550 машин.\n",
      "Обработана страница 92. Всего загружено 4600 машин.\n",
      "Обработана страница 93. Всего загружено 4650 машин.\n",
      "Обработана страница 94. Всего загружено 4700 машин.\n",
      "Обработана страница 95. Всего загружено 4750 машин.\n",
      "Обработана страница 96. Всего загружено 4800 машин.\n",
      "Обработана страница 97. Всего загружено 4850 машин.\n",
      "Обработана страница 98. Всего загружено 4900 машин.\n",
      "Обработана страница 99. Всего загружено 4950 машин.\n",
      "Обработана страница 100. Всего загружено 5000 машин.\n",
      "CPU times: total: 1min 6s\n",
      "Wall time: 29min 15s\n"
     ]
    }
   ],
   "source": [
    "%%time\n",
    "\n",
    "current_date = date.today()\n",
    "print(f'Дата загрузки {current_date}')\n",
    "driver = webdriver.Chrome(service=Service(ChromeDriverManager().install()))\n",
    "print('Драйвер загружен!')\n",
    "\n",
    "df_old_rus_cars = pd.DataFrame(columns=['Date_download', 'Model', 'Year', 'Price', 'Odometer', 'Location', 'Date_publication', 'Link'])\n",
    "\n",
    "for page in range(1, 101):\n",
    "\n",
    "    df_help = pd.DataFrame()\n",
    "    url = f'https://www.avito.ru/stavropolskiy_kray/avtomobili/s_probegom-ASgBAgICAUSGFMjmAQ?f=ASgBAgICAkSGFMjmAYTRErLJ2hE&s=104&p={page}'\n",
    "    driver.get(url)\n",
    "    html = driver.page_source\n",
    "    soup = BeautifulSoup(html, 'lxml')\n",
    "\n",
    "    models = soup.find_all('h3', class_='styles-module-root-s3nJ7 styles-module-root-s4tZ2 styles-module-size_l-j3Csw styles-module-size_l_compensated-trWgn styles-module-size_l-ai2ZG styles-module-ellipsis-A5gkK styles-module-weight_bold-Bh2pN stylesMarningNormal-module-root-_xKyG stylesMarningNormal-module-header-l-GrtnL')\n",
    "    model_lst = [car.next.split(', ')[0] for car in models]\n",
    "    year_lst = [car.next.split(', ')[1] for car in models]\n",
    "    odometer_lst = [car.next.split(', ')[2] for car in models]\n",
    "    odometer_lst = [''.join(num for num in price if num.isdigit()) for price in odometer_lst] # Удаление всего, кроме цифр\n",
    "    date_download = [current_date] * len(model_lst)\n",
    "\n",
    "    prices = soup.find_all('strong')\n",
    "    price_lst = [price.find('span', class_='').next for price in prices if price.find('span', class_='') is not None]\n",
    "    price_lst = [''.join(num for num in price if num.isdigit()) for price in price_lst]\n",
    "\n",
    "    links = soup.find_all('div', class_='iva-item-title-CdRXl')\n",
    "    links_lst = [f'www.avito.ru{link.find(\"a\", class_=\"styles-module-root-m3BML styles-module-root_noVisited-HHF0s\").get(\"href\")}' for link in links]\n",
    "\n",
    "    dates = soup.find_all('div', class_='iva-item-dateInfoStep-qcDJA')\n",
    "    date_publication_lst = [date.find('p', class_='styles-module-root-s4tZ2 styles-module-size_s-nEvE8 styles-module-size_s-PDQal stylesMarningNormal-module-root-_xKyG stylesMarningNormal-module-paragraph-s-HX94M styles-module-noAccent-XIvJm').text for date in dates]\n",
    "\n",
    "    locations = soup.find_all('div', class_='geo-root-NrkbV')\n",
    "    locations_lst = [location.find('span').text for location in locations]    \n",
    "\n",
    "    df_help['Date_download'] = date_download\n",
    "    df_help['Model'] = model_lst\n",
    "    df_help['Year'] = year_lst\n",
    "    df_help['Price'] = price_lst\n",
    "    df_help['Odometer'] = odometer_lst\n",
    "#   df_help['Seller'] = seller_lst\n",
    "    df_help['Location'] = locations_lst\n",
    "    df_help['Date_publication'] = date_publication_lst\n",
    "    df_help['Link'] = links_lst  \n",
    "\n",
    "    df_old_rus_cars = pd.concat([df_old_rus_cars, df_help], ignore_index=True)\n",
    "    \n",
    "    print(f'Обработана страница {page}. Всего загружено {len(df_old_rus_cars)} машин.')\n",
    "    \n",
    "    df_old_rus_cars.to_excel(f'Автомобили/Отечественные_авто_с_пробегом_{current_date}.xlsx', index=False)\n",
    "\n",
    "df_old_rus_cars_Final = df_old_rus_cars.drop_duplicates()\n",
    "df_old_rus_cars_Final.to_excel(f'Автомобили/Отечественные_авто_с_пробегом_{current_date}.xlsx', index=False)"
   ]
  },
  {
   "cell_type": "code",
   "execution_count": null,
   "id": "d8357379",
   "metadata": {},
   "outputs": [],
   "source": [
    "df_old_rus_cars_Final = df_old_rus_cars.drop_duplicates()"
   ]
  },
  {
   "cell_type": "code",
   "execution_count": null,
   "id": "f7d695f0",
   "metadata": {},
   "outputs": [],
   "source": [
    "df_old_rus_cars_Final.to_excel(f'Отечественные_авто_с_пробегом_{current_date}.xlsx')"
   ]
  },
  {
   "cell_type": "code",
   "execution_count": null,
   "id": "aa15cbea",
   "metadata": {},
   "outputs": [],
   "source": [
    "# df_old_import_cars"
   ]
  },
  {
   "cell_type": "code",
   "execution_count": null,
   "id": "931c6742",
   "metadata": {},
   "outputs": [],
   "source": [
    "# df_old_import_cars_Final.to_excel(f'Подержанные_импортные_авто_{current_date}.xlsx')"
   ]
  },
  {
   "cell_type": "code",
   "execution_count": null,
   "id": "6282385f",
   "metadata": {},
   "outputs": [],
   "source": [
    "df_old_rus_cars_Final.shape"
   ]
  },
  {
   "cell_type": "code",
   "execution_count": null,
   "id": "9362ac49",
   "metadata": {
    "scrolled": false
   },
   "outputs": [],
   "source": [
    "df_old_rus_cars_Final['Model'].value_counts()"
   ]
  },
  {
   "cell_type": "code",
   "execution_count": null,
   "id": "0d68aefa",
   "metadata": {},
   "outputs": [],
   "source": []
  },
  {
   "cell_type": "code",
   "execution_count": null,
   "id": "4c486a40",
   "metadata": {},
   "outputs": [],
   "source": [
    "driver = webdriver.Chrome(service=Service(ChromeDriverManager().install()))"
   ]
  },
  {
   "cell_type": "code",
   "execution_count": null,
   "id": "709c4890",
   "metadata": {},
   "outputs": [],
   "source": [
    "url = f'https://www.avito.ru/stavropolskiy_kray/avtomobili/s_probegom-ASgBAgICAUSGFMjmAQ?f=ASgBAQICAUSGFMjmAQFAhNEShIDJ2hGoydoRksnaEZzJ2hGiydoR_MjaEabJ2hGIydoR&p=1'\n",
    "driver.get(url)\n",
    "html = driver.page_source\n",
    "soup = BeautifulSoup(html, 'lxml')"
   ]
  },
  {
   "cell_type": "code",
   "execution_count": null,
   "id": "b199a873",
   "metadata": {},
   "outputs": [],
   "source": [
    "models = soup.find_all('h3', class_='styles-module-root-W_crH styles-module-root-o3j6a styles-module-size_l-iNNq9 styles-module-size_l_compensated-KFJud styles-module-size_l-Hu1M4 styles-module-ellipsis-XeCfh styles-module-weight_bold-GExWK stylesMarningNormal-module-root-_BXZU stylesMarningNormal-module-header-l-Bz4F4')"
   ]
  },
  {
   "cell_type": "code",
   "execution_count": null,
   "id": "314d6aed",
   "metadata": {},
   "outputs": [],
   "source": [
    "# Модель год_выпуска пробег\n",
    "model_lst = [car.next.split(', ')[0] for car in models]\n",
    "year_lst = [car.next.split(', ')[1] for car in models]\n",
    "odometer_lst = [car.next.split(', ')[2] for car in models]\n",
    "odometer_lst = [''.join(num for num in price if num.isdigit()) for price in odometer_lst]"
   ]
  },
  {
   "cell_type": "code",
   "execution_count": null,
   "id": "a0170a59",
   "metadata": {},
   "outputs": [],
   "source": []
  },
  {
   "cell_type": "code",
   "execution_count": null,
   "id": "e93cd2ee",
   "metadata": {},
   "outputs": [],
   "source": [
    "model = models.find_all('h3', class_='styles-module-root-W_crH styles-module-root-o3j6a styles-module-size_l-iNNq9 styles-module-size_l_compensated-KFJud styles-module-size_l-Hu1M4 styles-module-ellipsis-XeCfh styles-module-weight_bold-GExWK stylesMarningNormal-module-root-_BXZU stylesMarningNormal-module-header-l-Bz4F4')"
   ]
  },
  {
   "cell_type": "code",
   "execution_count": null,
   "id": "59bfce48",
   "metadata": {},
   "outputs": [],
   "source": []
  },
  {
   "cell_type": "code",
   "execution_count": null,
   "id": "88c6081c",
   "metadata": {},
   "outputs": [],
   "source": [
    "for model in models:\n",
    "    print(model.find('h3', class_='styles-module-root-W_crH styles-module-root-o3j6a styles-module-size_l-iNNq9 styles-module-size_l_compensated-KFJud styles-module-size_l-Hu1M4 styles-module-ellipsis-XeCfh styles-module-weight_bold-GExWK stylesMarningNormal-module-root-_BXZU stylesMarningNormal-module-header-l-Bz4F4'))\n",
    "    print()"
   ]
  },
  {
   "cell_type": "code",
   "execution_count": null,
   "id": "fe8171c9",
   "metadata": {},
   "outputs": [],
   "source": []
  },
  {
   "cell_type": "code",
   "execution_count": null,
   "id": "e002dc63",
   "metadata": {},
   "outputs": [],
   "source": []
  },
  {
   "cell_type": "code",
   "execution_count": null,
   "id": "abcdf0fb",
   "metadata": {},
   "outputs": [],
   "source": []
  },
  {
   "cell_type": "code",
   "execution_count": null,
   "id": "464a4895",
   "metadata": {},
   "outputs": [],
   "source": []
  },
  {
   "cell_type": "code",
   "execution_count": null,
   "id": "2c429e0d",
   "metadata": {},
   "outputs": [],
   "source": []
  },
  {
   "cell_type": "code",
   "execution_count": null,
   "id": "6735ab20",
   "metadata": {},
   "outputs": [],
   "source": []
  },
  {
   "cell_type": "code",
   "execution_count": null,
   "id": "fc40a1c7",
   "metadata": {},
   "outputs": [],
   "source": []
  },
  {
   "cell_type": "code",
   "execution_count": null,
   "id": "ee960fcb",
   "metadata": {},
   "outputs": [],
   "source": []
  },
  {
   "cell_type": "code",
   "execution_count": null,
   "id": "67fa06eb",
   "metadata": {},
   "outputs": [],
   "source": []
  },
  {
   "cell_type": "code",
   "execution_count": null,
   "id": "803bf969",
   "metadata": {},
   "outputs": [],
   "source": [
    "# soup"
   ]
  },
  {
   "cell_type": "code",
   "execution_count": null,
   "id": "dcf30e3a",
   "metadata": {},
   "outputs": [],
   "source": [
    "#dates = soup.find_all('p', class_='styles-module-root-o3j6a styles-module-size_s-xb_uK styles-module-size_s-__aUd stylesMarningNormal-module-root-_BXZU stylesMarningNormal-module-paragraph-s-_lGjQ styles-module-noAccent-l9CMS')\n",
    "\n",
    "locations = soup.find_all('div', class_='geo-root-zPwRk')\n",
    "# locations_lst = [location.find('span') for location in locations]\n",
    "# locations_lst\n",
    "# date_lst = [date.find('p', class_='styles-module-root-o3j6a styles-module-size_s-xb_uK styles-module-size_s-__aUd stylesMarningNormal-module-root-_BXZU stylesMarningNormal-module-paragraph-s-_lGjQ styles-module-noAccent-l9CMS').next for date in dates]\n",
    "# date_lst\n"
   ]
  },
  {
   "cell_type": "code",
   "execution_count": null,
   "id": "983fb792",
   "metadata": {},
   "outputs": [],
   "source": [
    "# locations"
   ]
  },
  {
   "cell_type": "code",
   "execution_count": null,
   "id": "78f308e1",
   "metadata": {},
   "outputs": [],
   "source": [
    "# for location in locations:\n",
    "#     print(location.find('span').text)\n",
    "#     print()"
   ]
  },
  {
   "cell_type": "code",
   "execution_count": null,
   "id": "822ea9d5",
   "metadata": {},
   "outputs": [],
   "source": [
    "# locations"
   ]
  },
  {
   "cell_type": "code",
   "execution_count": null,
   "id": "1f8eb778",
   "metadata": {},
   "outputs": [],
   "source": [
    "# "
   ]
  },
  {
   "cell_type": "code",
   "execution_count": null,
   "id": "ab9d8c2e",
   "metadata": {},
   "outputs": [],
   "source": [
    "# date_lst = [date.find('p', class_='styles-module-root-o3j6a styles-module-size_s-xb_uK styles-module-size_s-__aUd stylesMarningNormal-module-root-_BXZU stylesMarningNormal-module-paragraph-s-_lGjQ styles-module-noAccent-l9CMS').next for date in dates]\n",
    "# date_lst"
   ]
  },
  {
   "cell_type": "code",
   "execution_count": null,
   "id": "88359bd5",
   "metadata": {},
   "outputs": [],
   "source": []
  }
 ],
 "metadata": {
  "kernelspec": {
   "display_name": "Python 3 (ipykernel)",
   "language": "python",
   "name": "python3"
  },
  "language_info": {
   "codemirror_mode": {
    "name": "ipython",
    "version": 3
   },
   "file_extension": ".py",
   "mimetype": "text/x-python",
   "name": "python",
   "nbconvert_exporter": "python",
   "pygments_lexer": "ipython3",
   "version": "3.10.9"
  }
 },
 "nbformat": 4,
 "nbformat_minor": 5
}
