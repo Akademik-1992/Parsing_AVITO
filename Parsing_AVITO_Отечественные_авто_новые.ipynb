{
 "cells": [
  {
   "cell_type": "code",
   "execution_count": 1,
   "id": "34960658",
   "metadata": {},
   "outputs": [],
   "source": [
    "from bs4 import BeautifulSoup\n",
    "import pandas as pd\n",
    "import requests, lxml, webbrowser, re, random, datetime\n",
    "import time, openpyxl, json, warnings, time\n",
    "from tqdm import tqdm\n",
    "import datetime\n",
    "from datetime import date, datetime, timedelta\n",
    "from dateutil.relativedelta import relativedelta\n",
    "from selenium import webdriver\n",
    "from selenium.webdriver.chrome.service import Service\n",
    "from webdriver_manager.chrome import ChromeDriverManager\n",
    "\n",
    "warnings.filterwarnings('ignore')\n",
    "pd.set_option('display.max_columns', None)\n",
    "pd.set_option('display.max_rows', None)"
   ]
  },
  {
   "cell_type": "code",
   "execution_count": 4,
   "id": "7a51dd19",
   "metadata": {},
   "outputs": [
    {
     "name": "stdout",
     "output_type": "stream",
     "text": [
      "Дата загрузки 2024-11-11\n",
      "Драйвер загружен!\n",
      "Обработана страница 1. Всего загружено 50 машин.\n",
      "Обработана страница 2. Всего загружено 99 машин.\n",
      "Обработана страница 3. Всего загружено 148 машин.\n",
      "Обработана страница 4. Всего загружено 197 машин.\n",
      "Обработана страница 5. Всего загружено 247 машин.\n",
      "Обработана страница 6. Всего загружено 296 машин.\n",
      "Обработана страница 7. Всего загружено 340 машин.\n",
      "Обработана страница 8. Всего загружено 390 машин.\n",
      "Обработана страница 9. Всего загружено 434 машин.\n",
      "Обработана страница 10. Всего загружено 476 машин.\n",
      "Обработана страница 11. Всего загружено 512 машин.\n",
      "Обработана страница 12. Всего загружено 545 машин.\n",
      "Обработана страница 13. Всего загружено 578 машин.\n",
      "Обработана страница 14. Всего загружено 606 машин.\n",
      "Обработана страница 15. Всего загружено 635 машин.\n",
      "Обработана страница 16. Всего загружено 665 машин.\n",
      "Обработана страница 17. Всего загружено 698 машин.\n",
      "Обработана страница 18. Всего загружено 748 машин.\n",
      "Обработана страница 19. Всего загружено 792 машин.\n",
      "Обработана страница 20. Всего загружено 825 машин.\n",
      "Обработана страница 21. Всего загружено 857 машин.\n",
      "Обработана страница 22. Всего загружено 883 машин.\n",
      "Обработана страница 23. Всего загружено 895 машин.\n",
      "Обработана страница 24. Всего загружено 895 машин.\n",
      "Обработана страница 25. Всего загружено 895 машин.\n",
      "Обработана страница 26. Всего загружено 895 машин.\n",
      "Обработана страница 27. Всего загружено 895 машин.\n",
      "Обработана страница 28. Всего загружено 895 машин.\n",
      "Обработана страница 29. Всего загружено 895 машин.\n",
      "Обработана страница 30. Всего загружено 895 машин.\n",
      "Обработана страница 31. Всего загружено 895 машин.\n",
      "Обработана страница 32. Всего загружено 895 машин.\n",
      "Обработана страница 33. Всего загружено 895 машин.\n",
      "Обработана страница 34. Всего загружено 895 машин.\n",
      "Обработана страница 35. Всего загружено 895 машин.\n",
      "Обработана страница 36. Всего загружено 895 машин.\n",
      "Обработана страница 37. Всего загружено 895 машин.\n",
      "CPU times: total: 11 s\n",
      "Wall time: 13min 47s\n"
     ]
    }
   ],
   "source": [
    "%%time\n",
    "\n",
    "current_date = date.today()\n",
    "print(f'Дата загрузки {current_date}')\n",
    "driver = webdriver.Chrome(service=Service(ChromeDriverManager().install()))\n",
    "print('Драйвер загружен!')\n",
    "\n",
    "df_new_rus_cars = pd.DataFrame(columns=['Date_download', 'Model', 'Year', 'Price', 'Odometer', 'Seller', 'Location', 'Date_publication', 'Link'])\n",
    "\n",
    "for page in range(1, 38):\n",
    "\n",
    "    df_help = pd.DataFrame()\n",
    "    \n",
    "    url = f'https://www.avito.ru/stavropolskiy_kray/avtomobili/novyy-ASgBAgICAUSGFMbmAQ?f=ASgBAgICAkSGFMbmAYTRErLJ2hE&s=104&p={page}'\n",
    "    driver.get(url)\n",
    "    html = driver.page_source\n",
    "    soup = BeautifulSoup(html, 'lxml')\n",
    "\n",
    "    models = soup.find_all('h3', class_='styles-module-root-s3nJ7 styles-module-root-s4tZ2 styles-module-size_l-j3Csw styles-module-size_l_compensated-trWgn styles-module-size_l-ai2ZG styles-module-ellipsis-A5gkK styles-module-weight_bold-Bh2pN stylesMarningNormal-module-root-_xKyG stylesMarningNormal-module-header-l-GrtnL')\n",
    "    model_lst = [car.next.split(', ')[0] for car in models]\n",
    "    year_lst = [car.next.split(', ')[1] for car in models]\n",
    "\n",
    "    date_download = [current_date] * len(model_lst)\n",
    "    \n",
    "    prices = soup.find_all('strong')\n",
    "    price_lst = [price.find('span', class_='').next for price in prices if price.find('span', class_='') is not None]\n",
    "    price_lst = [''.join(num for num in price if num.isdigit()) for price in price_lst]\n",
    "\n",
    "    sellers = soup.find_all('p', class_='styles-module-root-s4tZ2 styles-module-size_s-nEvE8 styles-module-size_s_compensated-wyNaE styles-module-size_s-PDQal styles-module-ellipsis-A5gkK styles-module-ellipsis_oneLine-xwEfT stylesMarningNormal-module-root-_xKyG stylesMarningNormal-module-paragraph-s-HX94M')\n",
    "    seller_lst = [seller.next for seller in sellers]\n",
    "\n",
    "    links = soup.find_all('div', class_='iva-item-title-CdRXl')\n",
    "    links_lst = [f'www.avito.ru{link.find(\"a\", class_=\"styles-module-root-m3BML styles-module-root_noVisited-HHF0s\").get(\"href\")}' for link in links]\n",
    "\n",
    "    dates = soup.find_all('div', class_='iva-item-dateInfoStep-qcDJA')\n",
    "    date_publication_lst = [date.find('p', class_='styles-module-root-s4tZ2 styles-module-size_s-nEvE8 styles-module-size_s-PDQal stylesMarningNormal-module-root-_xKyG stylesMarningNormal-module-paragraph-s-HX94M styles-module-noAccent-XIvJm').text for date in dates]\n",
    "\n",
    "#     locations = soup.find_all('div', class_='geo-root-NrkbV')\n",
    "#     locations_lst = [location.find('span').text for location in locations]\n",
    "\n",
    "    df_help['Date_download'] = date_download\n",
    "    df_help['Model'] = model_lst\n",
    "    df_help['Year'] = year_lst\n",
    "    df_help['Price'] = price_lst\n",
    "    df_help['Seller'] = seller_lst\n",
    "#     df_help['Location'] = locations_lst\n",
    "    df_help['Date_publication'] = date_publication_lst\n",
    "    df_help['Link'] = links_lst\n",
    "    \n",
    "    df_new_rus_cars = pd.concat([df_new_rus_cars, df_help], ignore_index=True)\n",
    "    df_new_rus_cars.to_excel(f'Автомобили/Отечественные_авто_новые_{current_date}.xlsx', index=False)\n",
    "    \n",
    "    print(f'Обработана страница {page}. Всего загружено {len(df_new_rus_cars)} машин.')\n",
    "\n",
    "df_new_rus_cars_Final = df_new_rus_cars.drop_duplicates()\n",
    "df_new_rus_cars_Final.to_excel(f'Автомобили/Отечественные_авто_новые_{current_date}.xlsx', index=False)"
   ]
  },
  {
   "cell_type": "markdown",
   "id": "63c7163f",
   "metadata": {},
   "source": [
    "# Отладка кода"
   ]
  },
  {
   "cell_type": "code",
   "execution_count": null,
   "id": "88359bd5",
   "metadata": {},
   "outputs": [],
   "source": [
    "current_date = date.today()\n",
    "print(f'Дата загрузки {current_date}')\n",
    "driver = webdriver.Chrome(service=Service(ChromeDriverManager().install()))\n",
    "print('Драйвер загружен!')"
   ]
  },
  {
   "cell_type": "code",
   "execution_count": null,
   "id": "98be62af",
   "metadata": {},
   "outputs": [],
   "source": [
    "url = f'https://www.avito.ru/stavropolskiy_kray/avtomobili/novyy-ASgBAgICAUSGFMbmAQ?f=ASgBAgICAkSGFMbmAYTRErLJ2hE&s=104&p=1'\n",
    "driver.get(url)\n",
    "html = driver.page_source\n",
    "soup = BeautifulSoup(html, 'lxml')"
   ]
  },
  {
   "cell_type": "code",
   "execution_count": null,
   "id": "90b51ac0",
   "metadata": {},
   "outputs": [],
   "source": [
    "# soup"
   ]
  },
  {
   "cell_type": "code",
   "execution_count": null,
   "id": "26bdf8db",
   "metadata": {},
   "outputs": [],
   "source": [
    "df_help = pd.DataFrame()\n",
    "\n",
    "models = soup.find_all('h3', class_='styles-module-root-s3nJ7 styles-module-root-s4tZ2 styles-module-size_l-j3Csw styles-module-size_l_compensated-trWgn styles-module-size_l-ai2ZG styles-module-ellipsis-A5gkK styles-module-weight_bold-Bh2pN stylesMarningNormal-module-root-_xKyG stylesMarningNormal-module-header-l-GrtnL')\n",
    "model_lst = [car.next.split(', ')[0] for car in models]\n",
    "year_lst = [car.next.split(', ')[1] for car in models]\n",
    "\n",
    "date_download = [current_date] * len(model_lst)\n",
    "\n",
    "prices = soup.find_all('strong')\n",
    "price_lst = [price.find('span', class_='').next for price in prices if price.find('span', class_='') is not None]\n",
    "price_lst = [''.join(num for num in price if num.isdigit()) for price in price_lst]\n",
    "\n",
    "sellers = soup.find_all('p', class_='styles-module-root-s4tZ2 styles-module-size_s-nEvE8 styles-module-size_s_compensated-wyNaE styles-module-size_s-PDQal styles-module-ellipsis-A5gkK styles-module-ellipsis_oneLine-xwEfT stylesMarningNormal-module-root-_xKyG stylesMarningNormal-module-paragraph-s-HX94M')\n",
    "seller_lst = [seller.next for seller in sellers]\n",
    "\n",
    "links = soup.find_all('div', class_='iva-item-title-CdRXl')\n",
    "links_lst = [f'www.avito.ru{link.find(\"a\", class_=\"styles-module-root-m3BML styles-module-root_noVisited-HHF0s\").get(\"href\")}' for link in links]\n",
    "\n",
    "dates = soup.find_all('div', class_='iva-item-dateInfoStep-qcDJA')\n",
    "date_publication_lst = [date.find('p', class_='styles-module-root-s4tZ2 styles-module-size_s-nEvE8 styles-module-size_s-PDQal stylesMarningNormal-module-root-_xKyG stylesMarningNormal-module-paragraph-s-HX94M styles-module-noAccent-XIvJm').text for date in dates]\n",
    "\n",
    "# locations = soup.find_all('div', class_='geo-root-NrkbV')\n",
    "# locations_lst = [location.find('span').text for location in locations]\n",
    "\n",
    "df_help['Date_download'] = date_download\n",
    "df_help['Model'] = model_lst\n",
    "df_help['Year'] = year_lst\n",
    "df_help['Price'] = price_lst\n",
    "df_help['Seller'] = seller_lst\n",
    "df_help['Link'] = links_lst\n",
    "# df_help['Location'] = locations_lst\n",
    "df_help['Date_publication'] = date_publication_lst"
   ]
  },
  {
   "cell_type": "code",
   "execution_count": null,
   "id": "b95ec134",
   "metadata": {},
   "outputs": [],
   "source": [
    "df_help"
   ]
  },
  {
   "cell_type": "code",
   "execution_count": null,
   "id": "bdbebf70",
   "metadata": {},
   "outputs": [],
   "source": [
    "locations = soup.find_all('div')\n",
    "# locations_lst = [location.find('span').text for location in locations]"
   ]
  },
  {
   "cell_type": "code",
   "execution_count": null,
   "id": "e1885e63",
   "metadata": {},
   "outputs": [],
   "source": [
    "locations"
   ]
  },
  {
   "cell_type": "code",
   "execution_count": null,
   "id": "1b7e9c6d",
   "metadata": {},
   "outputs": [],
   "source": []
  }
 ],
 "metadata": {
  "kernelspec": {
   "display_name": "Python 3 (ipykernel)",
   "language": "python",
   "name": "python3"
  },
  "language_info": {
   "codemirror_mode": {
    "name": "ipython",
    "version": 3
   },
   "file_extension": ".py",
   "mimetype": "text/x-python",
   "name": "python",
   "nbconvert_exporter": "python",
   "pygments_lexer": "ipython3",
   "version": "3.10.9"
  }
 },
 "nbformat": 4,
 "nbformat_minor": 5
}
